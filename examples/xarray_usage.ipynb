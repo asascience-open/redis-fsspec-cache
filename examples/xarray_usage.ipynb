{
 "cells": [
  {
   "cell_type": "markdown",
   "metadata": {},
   "source": [
    "# Using the cache\n",
    "\n",
    "First make sure that the dependencies are installed:\n",
    "\n",
    "```bash\n",
    "pip install -r requirements-dev.txt\n",
    "```\n",
    "\n",
    "Then run redis using docker compose:\n",
    "\n",
    "```bash\n",
    "docker compose -f docker-compose.redis.yml up -d\n",
    "```\n",
    "\n",
    "Then run the notebook. \n",
    "\n",
    "If you want to view the data in redis, you can use the redis-cli:\n",
    "\n",
    "```bash\n",
    "brew install redis\n",
    "redis-cli -p 6380\n",
    "```"
   ]
  },
  {
   "cell_type": "code",
   "execution_count": 1,
   "metadata": {},
   "outputs": [
    {
     "ename": "ImportError",
     "evalue": "cannot import name 'RedisAsyncCachingFilesystem' from 'redis_fsspec_cache.reference' (/Users/matthewiannucci/Developer/redis-fsspec-cache/redis_fsspec_cache/reference.py)",
     "output_type": "error",
     "traceback": [
      "\u001b[0;31m---------------------------------------------------------------------------\u001b[0m",
      "\u001b[0;31mImportError\u001b[0m                               Traceback (most recent call last)",
      "Cell \u001b[0;32mIn[1], line 4\u001b[0m\n\u001b[1;32m      2\u001b[0m \u001b[38;5;28;01mimport\u001b[39;00m \u001b[38;5;21;01mxarray\u001b[39;00m \u001b[38;5;28;01mas\u001b[39;00m \u001b[38;5;21;01mxr\u001b[39;00m\n\u001b[1;32m      3\u001b[0m \u001b[38;5;28;01mfrom\u001b[39;00m \u001b[38;5;21;01mredis\u001b[39;00m \u001b[38;5;28;01mimport\u001b[39;00m Redis\n\u001b[0;32m----> 4\u001b[0m \u001b[38;5;28;01mfrom\u001b[39;00m \u001b[38;5;21;01mredis_fsspec_cache\u001b[39;00m\u001b[38;5;21;01m.\u001b[39;00m\u001b[38;5;21;01mreference\u001b[39;00m \u001b[38;5;28;01mimport\u001b[39;00m RedisAsyncCachingFilesystem\n\u001b[1;32m      6\u001b[0m redis \u001b[38;5;241m=\u001b[39m Redis(host\u001b[38;5;241m=\u001b[39m\u001b[38;5;124m\"\u001b[39m\u001b[38;5;124mlocalhost\u001b[39m\u001b[38;5;124m\"\u001b[39m, port\u001b[38;5;241m=\u001b[39m\u001b[38;5;241m6380\u001b[39m)\n\u001b[1;32m      8\u001b[0m new_cached_fs \u001b[38;5;241m=\u001b[39m RedisAsyncCachingFilesystem(\n\u001b[1;32m      9\u001b[0m     redis\u001b[38;5;241m=\u001b[39mredis,\n\u001b[1;32m     10\u001b[0m     expiry_time\u001b[38;5;241m=\u001b[39m\u001b[38;5;241m60\u001b[39m,\n\u001b[0;32m   (...)\u001b[0m\n\u001b[1;32m     16\u001b[0m     asynchronous\u001b[38;5;241m=\u001b[39m\u001b[38;5;28;01mTrue\u001b[39;00m, \n\u001b[1;32m     17\u001b[0m )\n",
      "\u001b[0;31mImportError\u001b[0m: cannot import name 'RedisAsyncCachingFilesystem' from 'redis_fsspec_cache.reference' (/Users/matthewiannucci/Developer/redis-fsspec-cache/redis_fsspec_cache/reference.py)"
     ]
    }
   ],
   "source": [
    "import fsspec\n",
    "import xarray as xr\n",
    "from redis import Redis\n",
    "from redis_fsspec_cache.reference import RedisCachingReferenceFileSystem\n",
    "\n",
    "redis = Redis(host=\"localhost\", port=6380)\n",
    "\n",
    "new_cached_fs = RedisCachingReferenceFileSystem(\n",
    "    redis=redis,\n",
    "    expiry_time=60,\n",
    "    fo='s3://nextgen-dmac-cloud-ingest/nos/ngofs2/nos.ngofs2.fields.best.nc.zarr', \n",
    "    remote_protocol='s3', \n",
    "    remote_options={'anon':True}, \n",
    "    target_protocol='s3', \n",
    "    target_options={'anon':True}, \n",
    "    asynchronous=True, \n",
    ")\n",
    "\n",
    "m = new_cached_fs.get_mapper(\"\")\n",
    "ds = xr.open_dataset(m, engine=\"zarr\", backend_kwargs=dict(consolidated=False), \n",
    "                      chunks={}, drop_variables=['Itime2'])\n",
    "ds"
   ]
  },
  {
   "cell_type": "code",
   "execution_count": 2,
   "metadata": {},
   "outputs": [
    {
     "name": "stdout",
     "output_type": "stream",
     "text": [
      "CAT: ['lat/0']\n",
      "CACHE HIT: ['lat/0']\n",
      "CPU times: user 195 ms, sys: 38.2 ms, total: 233 ms\n",
      "Wall time: 380 ms\n"
     ]
    },
    {
     "data": {
      "text/plain": [
       "array([21.789427, 21.7978  , 21.81    , ..., 30.50772 , 30.50776 ,\n",
       "       30.507713], dtype=float32)"
      ]
     },
     "execution_count": 2,
     "metadata": {},
     "output_type": "execute_result"
    }
   ],
   "source": [
    "%%time\n",
    "ds.lat.values"
   ]
  },
  {
   "cell_type": "code",
   "execution_count": 2,
   "metadata": {},
   "outputs": [
    {
     "name": "stdout",
     "output_type": "stream",
     "text": [
      "CAT: ['nv/0.0']\n",
      "CACHE HIT: ['nv/0.0']\n",
      "CPU times: user 223 ms, sys: 57.1 ms, total: 280 ms\n",
      "Wall time: 538 ms\n"
     ]
    },
    {
     "data": {
      "text/plain": [
       "3"
      ]
     },
     "execution_count": 2,
     "metadata": {},
     "output_type": "execute_result"
    }
   ],
   "source": [
    "%%time\n",
    "len(ds.nv.values)"
   ]
  },
  {
   "cell_type": "code",
   "execution_count": 2,
   "metadata": {},
   "outputs": [
    {
     "name": "stdout",
     "output_type": "stream",
     "text": [
      "CAT: ['zeta/9.0']CAT: ['zeta/8.0']\n",
      "\n",
      "CAT: ['zeta/7.0']\n",
      "CAT: ['zeta/6.0']\n",
      "CAT: ['zeta/5.0']\n",
      "CAT: ['zeta/4.0']\n",
      "CAT: ['zeta/3.0']\n",
      "CAT: ['zeta/2.0']\n",
      "CAT: ['zeta/1.0']\n",
      "CAT: ['zeta/0.0']\n",
      "CACHE HIT: ['zeta/8.0']\n",
      "CACHE HIT: ['zeta/9.0']\n",
      "CACHE HIT: ['zeta/5.0']\n",
      "CACHE HIT: ['zeta/3.0']\n",
      "CACHE HIT: ['zeta/0.0']\n",
      "CACHE HIT: ['zeta/1.0']\n",
      "CACHE HIT: ['zeta/2.0']\n",
      "CACHE HIT: ['zeta/4.0']\n",
      "CACHE HIT: ['zeta/7.0']\n",
      "CACHE HIT: ['zeta/6.0']\n",
      "CPU times: user 236 ms, sys: 67.8 ms, total: 304 ms\n",
      "Wall time: 490 ms\n"
     ]
    },
    {
     "data": {
      "text/plain": [
       "array([[0.12666899, 0.12503888, 0.12107819, ..., 0.7163431 , 0.7143663 ,\n",
       "        0.716661  ],\n",
       "       [0.10200123, 0.09967896, 0.09507909, ..., 0.7435788 , 0.74137074,\n",
       "        0.74403507],\n",
       "       [0.1794594 , 0.17622934, 0.17010154, ..., 0.71228325, 0.710277  ,\n",
       "        0.712741  ],\n",
       "       ...,\n",
       "       [0.27834344, 0.27714086, 0.27271524, ..., 0.791554  , 0.7890122 ,\n",
       "        0.791849  ],\n",
       "       [0.24430923, 0.24382065, 0.2409046 , ..., 0.75616574, 0.7539281 ,\n",
       "        0.7563978 ],\n",
       "       [0.1446265 , 0.14446583, 0.14271444, ..., 0.82348686, 0.82094306,\n",
       "        0.82362497]], dtype=float32)"
      ]
     },
     "execution_count": 2,
     "metadata": {},
     "output_type": "execute_result"
    }
   ],
   "source": [
    "%%time\n",
    "\n",
    "ds.zeta.isel(time=slice(0,10)).values"
   ]
  },
  {
   "cell_type": "code",
   "execution_count": 3,
   "metadata": {},
   "outputs": [
    {
     "data": {
      "text/plain": [
       "1"
      ]
     },
     "execution_count": 3,
     "metadata": {},
     "output_type": "execute_result"
    }
   ],
   "source": [
    "len(fs.cat(['nv/0.0']))"
   ]
  },
  {
   "cell_type": "code",
   "execution_count": null,
   "metadata": {},
   "outputs": [],
   "source": []
  }
 ],
 "metadata": {
  "kernelspec": {
   "display_name": "env",
   "language": "python",
   "name": "python3"
  },
  "language_info": {
   "codemirror_mode": {
    "name": "ipython",
    "version": 3
   },
   "file_extension": ".py",
   "mimetype": "text/x-python",
   "name": "python",
   "nbconvert_exporter": "python",
   "pygments_lexer": "ipython3",
   "version": "3.10.7"
  }
 },
 "nbformat": 4,
 "nbformat_minor": 2
}
