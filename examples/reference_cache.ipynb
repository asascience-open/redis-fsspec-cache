{
 "cells": [
  {
   "cell_type": "code",
   "execution_count": 1,
   "metadata": {},
   "outputs": [],
   "source": [
    "import fsspec\n",
    "import json\n",
    "import xarray as xr\n",
    "from redis import Redis\n",
    "from redis.asyncio import Redis as RedisAsync\n",
    "from redis_fsspec_cache.asyncio import RedisAsyncCachingFilesystem\n",
    "from redis_fsspec_cache.sync import RedisCachingFileSystem\n",
    "from redis_fsspec_cache.reference import RedisCachingReferenceFileSystem\n",
    "\n",
    "redis = RedisAsync(host=\"localhost\", port=6380)\n",
    "\n",
    "s3fs = fsspec.filesystem(\"s3\", anon=True)\n",
    "cached_s3fs = RedisAsyncCachingFilesystem(redis=redis, fs=s3fs, expiry_time=60)"
   ]
  },
  {
   "cell_type": "code",
   "execution_count": 2,
   "metadata": {},
   "outputs": [
    {
     "name": "stdout",
     "output_type": "stream",
     "text": [
      "CPU times: user 8.15 ms, sys: 3.48 ms, total: 11.6 ms\n",
      "Wall time: 16.8 ms\n"
     ]
    }
   ],
   "source": [
    "%%time\n",
    "\n",
    "raw_refs = cached_s3fs.cat_file('s3://nextgen-dmac-cloud-ingest/nos/ngofs2/nos.ngofs2.fields.best.nc.zarr')\n",
    "refs = json.loads(raw_refs)"
   ]
  },
  {
   "cell_type": "code",
   "execution_count": 3,
   "metadata": {},
   "outputs": [
    {
     "name": "stdout",
     "output_type": "stream",
     "text": [
      "CPU times: user 6.63 ms, sys: 2.67 ms, total: 9.3 ms\n",
      "Wall time: 14.6 ms\n"
     ]
    }
   ],
   "source": [
    "%%time\n",
    "\n",
    "cached_raw_refs = cached_s3fs.cat_file('s3://nextgen-dmac-cloud-ingest/nos/ngofs2/nos.ngofs2.fields.best.nc.zarr')\n",
    "cached_refs = json.loads(raw_refs)"
   ]
  },
  {
   "cell_type": "code",
   "execution_count": null,
   "metadata": {},
   "outputs": [],
   "source": []
  }
 ],
 "metadata": {
  "kernelspec": {
   "display_name": ".venv",
   "language": "python",
   "name": "python3"
  },
  "language_info": {
   "codemirror_mode": {
    "name": "ipython",
    "version": 3
   },
   "file_extension": ".py",
   "mimetype": "text/x-python",
   "name": "python",
   "nbconvert_exporter": "python",
   "pygments_lexer": "ipython3",
   "version": "3.11.8"
  }
 },
 "nbformat": 4,
 "nbformat_minor": 2
}
