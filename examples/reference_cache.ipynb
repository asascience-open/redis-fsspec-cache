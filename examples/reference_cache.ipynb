{
 "cells": [
  {
   "cell_type": "code",
   "execution_count": 1,
   "metadata": {},
   "outputs": [],
   "source": [
    "import fsspec\n",
    "import json\n",
    "import xarray as xr\n",
    "from redis import Redis\n",
    "from redis_fsspec_cache.sync import RedisCachingFileSystem\n",
    "from redis_fsspec_cache.reference import RedisCachingReferenceFileSystem\n",
    "\n",
    "redis = Redis(host=\"localhost\", port=6380)\n",
    "\n",
    "s3fs = fsspec.filesystem(\"s3\", anon=True)\n",
    "cached_s3fs = RedisCachingFileSystem(redis=redis, fs=s3fs, expiry_time=60)"
   ]
  },
  {
   "cell_type": "code",
   "execution_count": 2,
   "metadata": {},
   "outputs": [
    {
     "name": "stdout",
     "output_type": "stream",
     "text": [
      "CPU times: user 63.4 ms, sys: 59.3 ms, total: 123 ms\n",
      "Wall time: 627 ms\n"
     ]
    }
   ],
   "source": [
    "%%time\n",
    "\n",
    "raw_refs = cached_s3fs.cat_file('s3://nextgen-dmac-cloud-ingest/nos/ngofs2/nos.ngofs2.fields.best.nc.zarr')\n",
    "refs = json.loads(raw_refs)"
   ]
  },
  {
   "cell_type": "code",
   "execution_count": 3,
   "metadata": {},
   "outputs": [
    {
     "name": "stdout",
     "output_type": "stream",
     "text": [
      "CPU times: user 6.87 ms, sys: 2.85 ms, total: 9.71 ms\n",
      "Wall time: 51.5 ms\n"
     ]
    }
   ],
   "source": [
    "%%time\n",
    "\n",
    "cached_raw_refs = cached_s3fs.cat_file('s3://nextgen-dmac-cloud-ingest/nos/ngofs2/nos.ngofs2.fields.best.nc.zarr')\n",
    "cached_refs = json.loads(raw_refs)"
   ]
  },
  {
   "cell_type": "code",
   "execution_count": null,
   "metadata": {},
   "outputs": [],
   "source": []
  }
 ],
 "metadata": {
  "kernelspec": {
   "display_name": ".venv",
   "language": "python",
   "name": "python3"
  },
  "language_info": {
   "codemirror_mode": {
    "name": "ipython",
    "version": 3
   },
   "file_extension": ".py",
   "mimetype": "text/x-python",
   "name": "python",
   "nbconvert_exporter": "python",
   "pygments_lexer": "ipython3",
   "version": "3.11.8"
  }
 },
 "nbformat": 4,
 "nbformat_minor": 2
}
