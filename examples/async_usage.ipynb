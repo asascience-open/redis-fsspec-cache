{
 "cells": [
  {
   "cell_type": "markdown",
   "metadata": {},
   "source": [
    "# Using the cache\n",
    "\n",
    "First make sure that the dependencies are installed:\n",
    "\n",
    "```bash\n",
    "pip install -r requirements-dev.txt\n",
    "```\n",
    "\n",
    "Then run redis using docker compose:\n",
    "\n",
    "```bash\n",
    "docker compose -f docker-compose.redis.yml up -d\n",
    "```\n",
    "\n",
    "Then run the notebook. \n",
    "\n",
    "If you want to view the data in redis, you can use the redis-cli:\n",
    "\n",
    "```bash\n",
    "brew install redis\n",
    "redis-cli -p 6380\n",
    "```"
   ]
  },
  {
   "cell_type": "code",
   "execution_count": 1,
   "metadata": {},
   "outputs": [],
   "source": [
    "import fsspec  \n",
    "from redis_fsspec_cache.asyn import RedisAsyncCachingFilesystem\n",
    "\n",
    "fs = fsspec.filesystem(\n",
    "    \"s3\",\n",
    "    anon=True,\n",
    ")\n",
    "\n",
    "cached_fs = RedisAsyncCachingFilesystem(\n",
    "    redis_host=\"localhost\",\n",
    "    redis_port=6380,\n",
    "    expiry_time=60,\n",
    "    fs=fs,\n",
    ")"
   ]
  },
  {
   "cell_type": "markdown",
   "metadata": {},
   "source": [
    "Let try to access a single chunk from a remote GRIB file we know about in an s3 bucket:\n",
    "\n",
    "```json\n",
    "\"gust\\/0.0.0\": [\n",
    "    \"s3:\\/\\/noaa-hrrr-bdp-pds\\/hrrr.20230927\\/conus\\/hrrr.t00z.wrfsubhf00.grib2\",\n",
    "    2884409,\n",
    "    1133540\n",
    "],\n",
    "```"
   ]
  },
  {
   "cell_type": "code",
   "execution_count": 2,
   "metadata": {},
   "outputs": [],
   "source": [
    "url = \"s3://noaa-hrrr-bdp-pds/hrrr.20230927/conus/hrrr.t00z.wrfsubhf00.grib2\"\n",
    "offset = 2884409\n",
    "length = 1133540\n",
    "end = offset + length"
   ]
  },
  {
   "cell_type": "code",
   "execution_count": 3,
   "metadata": {},
   "outputs": [
    {
     "name": "stdout",
     "output_type": "stream",
     "text": [
      "CPU times: user 112 ms, sys: 85.2 ms, total: 197 ms\n",
      "Wall time: 650 ms\n"
     ]
    }
   ],
   "source": [
    "%%time\n",
    "\n",
    "nocache_chunk = fs.cat_file(url, start=offset, end=end)"
   ]
  },
  {
   "cell_type": "code",
   "execution_count": 4,
   "metadata": {},
   "outputs": [
    {
     "name": "stdout",
     "output_type": "stream",
     "text": [
      "CPU times: user 13.2 ms, sys: 5.38 ms, total: 18.5 ms\n",
      "Wall time: 141 ms\n"
     ]
    }
   ],
   "source": [
    "%%time\n",
    "\n",
    "uncached_chunk = cached_fs.cat_file(url, start=offset, end=end)"
   ]
  },
  {
   "cell_type": "code",
   "execution_count": 5,
   "metadata": {},
   "outputs": [
    {
     "name": "stdout",
     "output_type": "stream",
     "text": [
      "CPU times: user 12.3 ms, sys: 4.98 ms, total: 17.3 ms\n",
      "Wall time: 170 ms\n"
     ]
    }
   ],
   "source": [
    "%%time\n",
    "\n",
    "cached_chunk = cached_fs.cat_file(url, start=offset, end=end)"
   ]
  },
  {
   "cell_type": "code",
   "execution_count": 7,
   "metadata": {},
   "outputs": [
    {
     "name": "stdout",
     "output_type": "stream",
     "text": [
      "Correct length: True\n",
      "Correct data: True\n"
     ]
    }
   ],
   "source": [
    "is_correct_length = len(cached_chunk) == length\n",
    "is_correct_data = cached_chunk == uncached_chunk and cached_chunk == nocache_chunk\n",
    "print(f\"Correct length: {is_correct_length}\")\n",
    "print(f\"Correct data: {is_correct_data}\")"
   ]
  }
 ],
 "metadata": {
  "kernelspec": {
   "display_name": "env",
   "language": "python",
   "name": "python3"
  },
  "language_info": {
   "codemirror_mode": {
    "name": "ipython",
    "version": 3
   },
   "file_extension": ".py",
   "mimetype": "text/x-python",
   "name": "python",
   "nbconvert_exporter": "python",
   "pygments_lexer": "ipython3",
   "version": "3.10.7"
  }
 },
 "nbformat": 4,
 "nbformat_minor": 2
}
