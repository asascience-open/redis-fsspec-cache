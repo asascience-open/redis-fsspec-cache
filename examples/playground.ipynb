{
 "cells": [
  {
   "cell_type": "markdown",
   "metadata": {},
   "source": [
    "# Using the cache\n",
    "\n",
    "First make sure that the dependencies are installed:\n",
    "\n",
    "```bash\n",
    "pip install -r requirements-dev.txt\n",
    "```\n",
    "\n",
    "Then run redis using docker compose:\n",
    "\n",
    "```bash\n",
    "docker compose -f docker-compose.redis.yml up -d\n",
    "```\n",
    "\n",
    "Then run the notebook. \n",
    "\n",
    "If you want to view the data in redis, you can use the redis-cli:\n",
    "\n",
    "```bash\n",
    "brew install redis\n",
    "redis-cli -p 6380\n",
    "```"
   ]
  },
  {
   "cell_type": "code",
   "execution_count": 2,
   "metadata": {},
   "outputs": [],
   "source": [
    "import fsspec\n",
    "from redis_block_fsspec_cache import RedisCachingFileSystem\n",
    "\n",
    "fs = fsspec.filesystem(\n",
    "    \"s3\",\n",
    "    anon=True,\n",
    ")\n",
    "\n",
    "cached_fs = RedisCachingFileSystem(\n",
    "    redis_host=\"localhost\",\n",
    "    redis_port=6380,\n",
    "    expiry_time=60,\n",
    "    fs=fs,\n",
    ")"
   ]
  },
  {
   "cell_type": "markdown",
   "metadata": {},
   "source": [
    "Let try to access a single chunk from a remote GRIB file we know about in an s3 bucket:\n",
    "\n",
    "```json\n",
    "\"gust\\/0.0.0\": [\n",
    "    \"s3:\\/\\/noaa-hrrr-bdp-pds\\/hrrr.20230927\\/conus\\/hrrr.t00z.wrfsubhf00.grib2\",\n",
    "    2884409,\n",
    "    1133540\n",
    "],\n",
    "```"
   ]
  },
  {
   "cell_type": "code",
   "execution_count": 16,
   "metadata": {},
   "outputs": [],
   "source": [
    "url = \"s3://noaa-hrrr-bdp-pds/hrrr.20230927/conus/hrrr.t00z.wrfsubhf00.grib2\"\n",
    "offset = 2884409\n",
    "length = 1133540"
   ]
  },
  {
   "cell_type": "code",
   "execution_count": 17,
   "metadata": {},
   "outputs": [
    {
     "name": "stdout",
     "output_type": "stream",
     "text": [
      "CPU times: user 42.2 ms, sys: 19.1 ms, total: 61.3 ms\n",
      "Wall time: 1.23 s\n"
     ]
    }
   ],
   "source": [
    "%%time\n",
    "\n",
    "nocache_chunk = fs.read_block(url, offset=offset, length=length)"
   ]
  },
  {
   "cell_type": "code",
   "execution_count": 18,
   "metadata": {},
   "outputs": [
    {
     "name": "stdout",
     "output_type": "stream",
     "text": [
      "CPU times: user 4.85 ms, sys: 5.54 ms, total: 10.4 ms\n",
      "Wall time: 71.5 ms\n"
     ]
    }
   ],
   "source": [
    "%%time\n",
    "\n",
    "uncached_chunk = cached_fs.read_block(url, offset=offset, length=length)"
   ]
  },
  {
   "cell_type": "code",
   "execution_count": 19,
   "metadata": {},
   "outputs": [
    {
     "name": "stdout",
     "output_type": "stream",
     "text": [
      "CPU times: user 4.16 ms, sys: 4.97 ms, total: 9.14 ms\n",
      "Wall time: 60.9 ms\n"
     ]
    }
   ],
   "source": [
    "%%time\n",
    "\n",
    "cached_chunk = cached_fs.read_block(url, offset=offset, length=length)"
   ]
  },
  {
   "cell_type": "code",
   "execution_count": 21,
   "metadata": {},
   "outputs": [
    {
     "name": "stdout",
     "output_type": "stream",
     "text": [
      "Correct length: False\n",
      "Correct data: False\n"
     ]
    }
   ],
   "source": [
    "is_correct_length = len(cached_chunk) == length\n",
    "is_correct_data = cached_chunk == uncached_chunk and cached_chunk == nocache_chunk\n",
    "print(f\"Correct length: {is_correct_length}\")\n",
    "print(f\"Correct data: {is_correct_data}\")"
   ]
  }
 ],
 "metadata": {
  "kernelspec": {
   "display_name": "env",
   "language": "python",
   "name": "python3"
  },
  "language_info": {
   "codemirror_mode": {
    "name": "ipython",
    "version": 3
   },
   "file_extension": ".py",
   "mimetype": "text/x-python",
   "name": "python",
   "nbconvert_exporter": "python",
   "pygments_lexer": "ipython3",
   "version": "3.10.13"
  }
 },
 "nbformat": 4,
 "nbformat_minor": 2
}
