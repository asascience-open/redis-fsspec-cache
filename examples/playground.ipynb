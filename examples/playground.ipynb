{
 "cells": [
  {
   "cell_type": "markdown",
   "metadata": {},
   "source": [
    "# Using the cache\n",
    "\n",
    "First make sure that the dependencies are installed:\n",
    "\n",
    "```bash\n",
    "pip install -r requirements-dev.txt\n",
    "```\n",
    "\n",
    "Then run redis using docker compose:\n",
    "\n",
    "```bash\n",
    "docker compose -f docker-compose.redis.yml up -d\n",
    "```\n",
    "\n",
    "Then run the notebook"
   ]
  },
  {
   "cell_type": "code",
   "execution_count": 1,
   "metadata": {},
   "outputs": [],
   "source": [
    "from redis_block_fsspec_cache import RedisCachingFileSystem\n",
    "\n",
    "fs = RedisCachingFileSystem(\n",
    "    redis_host=\"localhost\",\n",
    "    redis_port=6380,\n",
    "    expiry_time=60,\n",
    "    target_protocol=\"s3\",\n",
    "    target_options={\n",
    "        'anon': True,\n",
    "    },\n",
    ")"
   ]
  },
  {
   "cell_type": "markdown",
   "metadata": {},
   "source": [
    "Let try to access a single chunk from a remote GRIB file we know about in an s3 bucket:\n",
    "\n",
    "```json\n",
    "\"gust\\/0.0.0\": [\n",
    "    \"s3:\\/\\/noaa-hrrr-bdp-pds\\/hrrr.20230927\\/conus\\/hrrr.t00z.wrfsubhf00.grib2\",\n",
    "    2884409,\n",
    "    1133540\n",
    "],\n",
    "```"
   ]
  },
  {
   "cell_type": "code",
   "execution_count": 2,
   "metadata": {},
   "outputs": [
    {
     "name": "stdout",
     "output_type": "stream",
     "text": [
      "HITTT\n",
      "CPU times: user 161 ms, sys: 114 ms, total: 275 ms\n",
      "Wall time: 3.15 s\n"
     ]
    }
   ],
   "source": [
    "%%time\n",
    "\n",
    "uncached_chunk = fs.read_block(\"s3://noaa-hrrr-bdp-pds/hrrr.20230927/conus/hrrr.t00z.wrfsubhf00.grib2\", offset=2884409, length=1133540)"
   ]
  },
  {
   "cell_type": "code",
   "execution_count": 3,
   "metadata": {},
   "outputs": [
    {
     "name": "stdout",
     "output_type": "stream",
     "text": [
      "HITTT\n",
      "CPU times: user 17.9 ms, sys: 24.3 ms, total: 42.2 ms\n",
      "Wall time: 230 ms\n"
     ]
    }
   ],
   "source": [
    "%%time\n",
    "\n",
    "cached_chunk = fs.read_block(\"s3://noaa-hrrr-bdp-pds/hrrr.20230927/conus/hrrr.t00z.wrfsubhf00.grib2\", offset=2884409, length=1133540)"
   ]
  },
  {
   "cell_type": "code",
   "execution_count": 7,
   "metadata": {},
   "outputs": [
    {
     "name": "stdout",
     "output_type": "stream",
     "text": [
      "True\n"
     ]
    }
   ],
   "source": [
    "print(uncached_chunk == cached_chunk)"
   ]
  }
 ],
 "metadata": {
  "kernelspec": {
   "display_name": "env",
   "language": "python",
   "name": "python3"
  },
  "language_info": {
   "codemirror_mode": {
    "name": "ipython",
    "version": 3
   },
   "file_extension": ".py",
   "mimetype": "text/x-python",
   "name": "python",
   "nbconvert_exporter": "python",
   "pygments_lexer": "ipython3",
   "version": "3.10.7"
  }
 },
 "nbformat": 4,
 "nbformat_minor": 2
}
